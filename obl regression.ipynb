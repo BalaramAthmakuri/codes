{
  "nbformat": 4,
  "nbformat_minor": 0,
  "metadata": {
    "colab": {
      "name": "LAB5_105.ipynb",
      "provenance": []
    },
    "kernelspec": {
      "name": "python3",
      "display_name": "Python 3"
    },
    "language_info": {
      "name": "python"
    }
  },
  "cells": [
    {
      "cell_type": "code",
      "metadata": {
        "colab": {
          "base_uri": "https://localhost:8080/"
        },
        "id": "5JxBs3AKZinI",
        "outputId": "24728e56-4596-4b4b-c817-8f91c132b9bf"
      },
      "source": [
        "a = int(input())\n",
        "x = []\n",
        "y = []\n",
        "print(\"Enter values in order x y in line\")\n",
        "for i in range(a):\n",
        "  xi,yi = input().split()\n",
        "  x.append(int(xi))\n",
        "  y.append(int(yi))\n",
        "xbar = sum(x)/len(x)\n",
        "ybar = sum(y)/len(y)\n",
        "p = []\n",
        "q = []\n",
        "pq = []\n",
        "for k in x:\n",
        "  p.append(k-xbar)\n",
        "for l in y:\n",
        "  q.append(l-ybar)\n",
        "for m in range(len(p)):\n",
        "  pq.append(p[m]*q[m])\n",
        "ps = []\n",
        "for n in range(len(p)):\n",
        "  ps.append(p[n]*p[n])\n",
        "sumps = sum(ps)\n",
        "sumpq = sum(pq)\n",
        "slope = sumpq/sumps\n",
        "print(\"Average of x is:\",xbar)\n",
        "print(\"Average of y is:\",ybar)\n",
        "print(\"slope is:\",slope)\n",
        "intercept = ybar - (slope*xbar)\n",
        "print(\"Regression line is :\",end = \" \")\n",
        "print(\"y =\",slope,\"x +(\",intercept,\")\")\n",
        "print(\"Do you want to know prediction for any value\")\n",
        "o = input()\n",
        "if o == \"YES\":\n",
        "  x = int(input(\"Value for which you want to know prediction :\"))\n",
        "  y = slope*x+(intercept)\n",
        "  print(\"Predicted value is :\",y)\n",
        "elif o == \"NO\":\n",
        "  print(\"Fine !\")"
      ],
      "execution_count": null,
      "outputs": [
        {
          "output_type": "stream",
          "text": [
            "5\n",
            "Enter values in order x y in line\n",
            "2005 12\n",
            "2006 19\n",
            "2007 29\n",
            "2008 37\n",
            "2009 45\n",
            "Average of x is: 2007.0\n",
            "Average of y is: 28.4\n",
            "slope is: 8.4\n",
            "Regression line is : y = 8.4 x +( -16830.399999999998 )\n",
            "Do you want to know prediction for any value\n",
            "YES\n",
            "Value for which you want to know prediction :2012\n",
            "Predicted value is : 70.40000000000146\n"
          ],
          "name": "stdout"
        }
      ]
    },
    {
      "cell_type": "code",
      "metadata": {
        "colab": {
          "base_uri": "https://localhost:8080/"
        },
        "id": "ZP4s5H_Fj8dv",
        "outputId": "db53a43c-5347-419b-c786-a006ae20040a"
      },
      "source": [
        "a = int(input())\n",
        "x = []\n",
        "y = []\n",
        "print(\"Enter values in order x y in line\")\n",
        "for i in range(a):\n",
        "  xi,yi = input().split()\n",
        "  x.append(int(xi))\n",
        "  y.append(int(yi))\n",
        "xbar = sum(x)/len(x)\n",
        "ybar = sum(y)/len(y)\n",
        "p = []\n",
        "q = []\n",
        "pq = []\n",
        "for k in x:\n",
        "  p.append(k-xbar)\n",
        "for l in y:\n",
        "  q.append(l-ybar)\n",
        "for m in range(len(p)):\n",
        "  pq.append(p[m]*q[m])\n",
        "ps = []\n",
        "for n in range(len(p)):\n",
        "  ps.append(p[n]*p[n])\n",
        "sumps = sum(ps)\n",
        "sumpq = sum(pq)\n",
        "slope = sumpq/sumps\n",
        "print(\"Average of x is:\",xbar)\n",
        "print(\"Average of y is:\",ybar)\n",
        "print(\"slope is:\",slope)\n",
        "intercept = ybar - (slope*xbar)\n",
        "print(\"Regression line is :\",end = \" \")\n",
        "print(\"y =\",slope,\"x +(\",intercept,\")\")\n",
        "print(\"Do you want to know prediction for any value\")\n",
        "o = input()\n",
        "if o == \"YES\":\n",
        "  x = int(input(\"Value for which you want to know prediction :\"))\n",
        "  y = slope*x+(intercept)\n",
        "  print(\"Predicted value is :\",y)\n",
        "elif o == \"NO\":\n",
        "  print(\"Fine !\")"
      ],
      "execution_count": null,
      "outputs": [
        {
          "output_type": "stream",
          "text": [
            "5\n",
            "Enter values in order x y in line\n",
            "2 4\n",
            "3 5\n",
            "5 7\n",
            "7 10\n",
            "9 15\n",
            "Average of x is: 5.2\n",
            "Average of y is: 8.2\n",
            "slope is: 1.518292682926829\n",
            "Regression line is : y = 1.518292682926829 x +( 0.30487804878048763 )\n",
            "Do you want to know prediction for any value\n",
            "NO\n",
            "Fine !\n"
          ],
          "name": "stdout"
        }
      ]
    }
  ]
}